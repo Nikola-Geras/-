{
 "cells": [
  {
   "cell_type": "markdown",
   "metadata": {
    "toc": true
   },
   "source": [
    "<h1>Содержание<span class=\"tocSkip\"></span></h1>\n",
    "<div class=\"toc\"><ul class=\"toc-item\"><li><span><a href=\"#Загрузка-данных\" data-toc-modified-id=\"Загрузка-данных-1\"><span class=\"toc-item-num\">1&nbsp;&nbsp;</span>Загрузка данных</a></span></li><li><span><a href=\"#Умножение-матриц\" data-toc-modified-id=\"Умножение-матриц-2\"><span class=\"toc-item-num\">2&nbsp;&nbsp;</span>Умножение матриц</a></span></li><li><span><a href=\"#Алгоритм-преобразования\" data-toc-modified-id=\"Алгоритм-преобразования-3\"><span class=\"toc-item-num\">3&nbsp;&nbsp;</span>Алгоритм преобразования</a></span></li><li><span><a href=\"#Проверка-алгоритма\" data-toc-modified-id=\"Проверка-алгоритма-4\"><span class=\"toc-item-num\">4&nbsp;&nbsp;</span>Проверка алгоритма</a></span></li><li><span><a href=\"#Чек-лист-проверки\" data-toc-modified-id=\"Чек-лист-проверки-5\"><span class=\"toc-item-num\">5&nbsp;&nbsp;</span>Чек-лист проверки</a></span></li></ul></div>"
   ]
  },
  {
   "cell_type": "markdown",
   "metadata": {},
   "source": [
    "# Защита персональных данных клиентов"
   ]
  },
  {
   "cell_type": "markdown",
   "metadata": {},
   "source": [
    "Вам нужно защитить данные клиентов страховой компании «Хоть потоп». Разработайте такой метод преобразования данных, чтобы по ним было сложно восстановить персональную информацию. Обоснуйте корректность его работы.\n",
    "\n",
    "Нужно защитить данные, чтобы при преобразовании качество моделей машинного обучения не ухудшилось. Подбирать наилучшую модель не требуется."
   ]
  },
  {
   "cell_type": "markdown",
   "metadata": {},
   "source": [
    "## Загрузка данных"
   ]
  },
  {
   "cell_type": "code",
   "execution_count": 1,
   "metadata": {},
   "outputs": [],
   "source": [
    "import pandas as pd\n",
    "import numpy as np\n",
    "import matplotlib.pyplot as plt\n",
    "import seaborn as sns\n",
    "from sklearn.metrics import r2_score\n",
    "from sklearn.model_selection import train_test_split\n",
    "from sklearn.linear_model import LinearRegression"
   ]
  },
  {
   "cell_type": "code",
   "execution_count": 2,
   "metadata": {},
   "outputs": [],
   "source": [
    "data = pd.read_csv('/datasets/insurance.csv')"
   ]
  },
  {
   "cell_type": "markdown",
   "metadata": {},
   "source": [
    "Изучим данные."
   ]
  },
  {
   "cell_type": "code",
   "execution_count": 3,
   "metadata": {},
   "outputs": [
    {
     "name": "stdout",
     "output_type": "stream",
     "text": [
      "<class 'pandas.core.frame.DataFrame'>\n",
      "RangeIndex: 5000 entries, 0 to 4999\n",
      "Data columns (total 5 columns):\n",
      " #   Column             Non-Null Count  Dtype  \n",
      "---  ------             --------------  -----  \n",
      " 0   Пол                5000 non-null   int64  \n",
      " 1   Возраст            5000 non-null   float64\n",
      " 2   Зарплата           5000 non-null   float64\n",
      " 3   Члены семьи        5000 non-null   int64  \n",
      " 4   Страховые выплаты  5000 non-null   int64  \n",
      "dtypes: float64(2), int64(3)\n",
      "memory usage: 195.4 KB\n"
     ]
    }
   ],
   "source": [
    "data.info()"
   ]
  },
  {
   "cell_type": "code",
   "execution_count": 4,
   "metadata": {},
   "outputs": [
    {
     "data": {
      "text/html": [
       "<div>\n",
       "<style scoped>\n",
       "    .dataframe tbody tr th:only-of-type {\n",
       "        vertical-align: middle;\n",
       "    }\n",
       "\n",
       "    .dataframe tbody tr th {\n",
       "        vertical-align: top;\n",
       "    }\n",
       "\n",
       "    .dataframe thead th {\n",
       "        text-align: right;\n",
       "    }\n",
       "</style>\n",
       "<table border=\"1\" class=\"dataframe\">\n",
       "  <thead>\n",
       "    <tr style=\"text-align: right;\">\n",
       "      <th></th>\n",
       "      <th>Пол</th>\n",
       "      <th>Возраст</th>\n",
       "      <th>Зарплата</th>\n",
       "      <th>Члены семьи</th>\n",
       "      <th>Страховые выплаты</th>\n",
       "    </tr>\n",
       "  </thead>\n",
       "  <tbody>\n",
       "    <tr>\n",
       "      <th>0</th>\n",
       "      <td>1</td>\n",
       "      <td>41.0</td>\n",
       "      <td>49600.0</td>\n",
       "      <td>1</td>\n",
       "      <td>0</td>\n",
       "    </tr>\n",
       "    <tr>\n",
       "      <th>1</th>\n",
       "      <td>0</td>\n",
       "      <td>46.0</td>\n",
       "      <td>38000.0</td>\n",
       "      <td>1</td>\n",
       "      <td>1</td>\n",
       "    </tr>\n",
       "    <tr>\n",
       "      <th>2</th>\n",
       "      <td>0</td>\n",
       "      <td>29.0</td>\n",
       "      <td>21000.0</td>\n",
       "      <td>0</td>\n",
       "      <td>0</td>\n",
       "    </tr>\n",
       "    <tr>\n",
       "      <th>3</th>\n",
       "      <td>0</td>\n",
       "      <td>21.0</td>\n",
       "      <td>41700.0</td>\n",
       "      <td>2</td>\n",
       "      <td>0</td>\n",
       "    </tr>\n",
       "    <tr>\n",
       "      <th>4</th>\n",
       "      <td>1</td>\n",
       "      <td>28.0</td>\n",
       "      <td>26100.0</td>\n",
       "      <td>0</td>\n",
       "      <td>0</td>\n",
       "    </tr>\n",
       "  </tbody>\n",
       "</table>\n",
       "</div>"
      ],
      "text/plain": [
       "   Пол  Возраст  Зарплата  Члены семьи  Страховые выплаты\n",
       "0    1     41.0   49600.0            1                  0\n",
       "1    0     46.0   38000.0            1                  1\n",
       "2    0     29.0   21000.0            0                  0\n",
       "3    0     21.0   41700.0            2                  0\n",
       "4    1     28.0   26100.0            0                  0"
      ]
     },
     "execution_count": 4,
     "metadata": {},
     "output_type": "execute_result"
    }
   ],
   "source": [
    "data.head()"
   ]
  },
  {
   "cell_type": "code",
   "execution_count": 5,
   "metadata": {},
   "outputs": [
    {
     "data": {
      "text/html": [
       "<div>\n",
       "<style scoped>\n",
       "    .dataframe tbody tr th:only-of-type {\n",
       "        vertical-align: middle;\n",
       "    }\n",
       "\n",
       "    .dataframe tbody tr th {\n",
       "        vertical-align: top;\n",
       "    }\n",
       "\n",
       "    .dataframe thead th {\n",
       "        text-align: right;\n",
       "    }\n",
       "</style>\n",
       "<table border=\"1\" class=\"dataframe\">\n",
       "  <thead>\n",
       "    <tr style=\"text-align: right;\">\n",
       "      <th></th>\n",
       "      <th>Пол</th>\n",
       "      <th>Возраст</th>\n",
       "      <th>Зарплата</th>\n",
       "      <th>Члены семьи</th>\n",
       "      <th>Страховые выплаты</th>\n",
       "    </tr>\n",
       "  </thead>\n",
       "  <tbody>\n",
       "    <tr>\n",
       "      <th>4995</th>\n",
       "      <td>0</td>\n",
       "      <td>28.0</td>\n",
       "      <td>35700.0</td>\n",
       "      <td>2</td>\n",
       "      <td>0</td>\n",
       "    </tr>\n",
       "    <tr>\n",
       "      <th>4996</th>\n",
       "      <td>0</td>\n",
       "      <td>34.0</td>\n",
       "      <td>52400.0</td>\n",
       "      <td>1</td>\n",
       "      <td>0</td>\n",
       "    </tr>\n",
       "    <tr>\n",
       "      <th>4997</th>\n",
       "      <td>0</td>\n",
       "      <td>20.0</td>\n",
       "      <td>33900.0</td>\n",
       "      <td>2</td>\n",
       "      <td>0</td>\n",
       "    </tr>\n",
       "    <tr>\n",
       "      <th>4998</th>\n",
       "      <td>1</td>\n",
       "      <td>22.0</td>\n",
       "      <td>32700.0</td>\n",
       "      <td>3</td>\n",
       "      <td>0</td>\n",
       "    </tr>\n",
       "    <tr>\n",
       "      <th>4999</th>\n",
       "      <td>1</td>\n",
       "      <td>28.0</td>\n",
       "      <td>40600.0</td>\n",
       "      <td>1</td>\n",
       "      <td>0</td>\n",
       "    </tr>\n",
       "  </tbody>\n",
       "</table>\n",
       "</div>"
      ],
      "text/plain": [
       "      Пол  Возраст  Зарплата  Члены семьи  Страховые выплаты\n",
       "4995    0     28.0   35700.0            2                  0\n",
       "4996    0     34.0   52400.0            1                  0\n",
       "4997    0     20.0   33900.0            2                  0\n",
       "4998    1     22.0   32700.0            3                  0\n",
       "4999    1     28.0   40600.0            1                  0"
      ]
     },
     "execution_count": 5,
     "metadata": {},
     "output_type": "execute_result"
    }
   ],
   "source": [
    "data.tail()"
   ]
  },
  {
   "cell_type": "markdown",
   "metadata": {},
   "source": [
    "Пропуски в данных отсутствуют\n",
    "\n",
    "Заменю тип данных в колоках \"Возраст\" и \"Зарплата\" на целочисленный. "
   ]
  },
  {
   "cell_type": "code",
   "execution_count": 6,
   "metadata": {},
   "outputs": [],
   "source": [
    "data['Возраст'] = data['Возраст'].astype('int64')"
   ]
  },
  {
   "cell_type": "code",
   "execution_count": 7,
   "metadata": {},
   "outputs": [],
   "source": [
    "data['Зарплата'] = data['Зарплата'].astype('int64')"
   ]
  },
  {
   "cell_type": "code",
   "execution_count": 8,
   "metadata": {},
   "outputs": [
    {
     "data": {
      "text/plain": [
       "Пол                  int64\n",
       "Возраст              int64\n",
       "Зарплата             int64\n",
       "Члены семьи          int64\n",
       "Страховые выплаты    int64\n",
       "dtype: object"
      ]
     },
     "execution_count": 8,
     "metadata": {},
     "output_type": "execute_result"
    }
   ],
   "source": [
    "data.dtypes"
   ]
  },
  {
   "cell_type": "code",
   "execution_count": 9,
   "metadata": {},
   "outputs": [
    {
     "name": "stdout",
     "output_type": "stream",
     "text": [
      "Количество явных дубликатов - 153\n"
     ]
    }
   ],
   "source": [
    "print('Количество явных дубликатов -', data.duplicated().sum())"
   ]
  },
  {
   "cell_type": "markdown",
   "metadata": {},
   "source": [
    "В данных есть небольшое количество дубликатов. Так как их всего 3%, можно их оставить."
   ]
  },
  {
   "cell_type": "code",
   "execution_count": 10,
   "metadata": {},
   "outputs": [
    {
     "name": "stdout",
     "output_type": "stream",
     "text": [
      "Пол\n",
      "Возраст\n",
      "Зарплата\n",
      "Члены семьи\n",
      "Страховые выплаты\n"
     ]
    }
   ],
   "source": [
    "for column in data.columns:\n",
    "    print(column)"
   ]
  },
  {
   "cell_type": "code",
   "execution_count": 11,
   "metadata": {},
   "outputs": [
    {
     "data": {
      "image/png": "[encoded data removed]",
      "text/plain": [
       "<Figure size 1080x1440 with 10 Axes>"
      ]
     },
     "metadata": {
      "needs_background": "light"
     },
     "output_type": "display_data"
    }
   ],
   "source": [
    "position = 0\n",
    "num_region = None\n",
    "plt.figure(figsize=[15, 20])\n",
    "plt.subplots_adjust(top=0.94, wspace=0.5, hspace=0.5)\n",
    "plt.suptitle('ЯЩИК С УСАМИ ДЛЯ ЦИФРОВЫХ ПРИЗНАКОВ.', fontsize=15)\n",
    "\n",
    "for column_name in data.columns:\n",
    "    position += 1\n",
    "    plt.subplot(5, 2, position)\n",
    "    sns.set_style('darkgrid')\n",
    "    plt.title(f'BOXPLOT ДЛЯ {column_name.upper()}', fontsize=10)\n",
    "    sns.set_style('darkgrid')\n",
    "    sns.boxplot(data=data[column_name], orient='h')\n",
    "    plt.axvline(np.mean(data[column_name]), \n",
    "                color='r', \n",
    "                linestyle='-',\n",
    "                label='СРЕДНЕЕ')\n",
    "    plt.legend(title=f'СРЕДНЕЕ = {np.mean(data[column_name]):.2f}, МЕДИАНА = {np.median(data[column_name]):.2f}', \n",
    "               loc='center', \n",
    "               edgecolor = 'r',\n",
    "               facecolor = 'oldlace',\n",
    "               bbox_to_anchor=(0.5, -0.24))\n",
    "    position += 1\n",
    "    plt.subplot(5, 2, position)\n",
    "    sns.set_style('darkgrid')\n",
    "    plt.title(f'Гистограмма ДЛЯ {column_name.upper()}', fontsize=10)\n",
    "    sns.histplot(data[column_name], color='b', label='Сырье', kde=False)\n",
    "plt.show();"
   ]
  },
  {
   "cell_type": "markdown",
   "metadata": {},
   "source": [
    "В данных есть выбросы. Значимые нарушения не выявлены."
   ]
  },
  {
   "cell_type": "markdown",
   "metadata": {},
   "source": [
    "# Вывод\n",
    "В данных отсутстсвуют критические нарушения.\n",
    "\n",
    "Так же присутствуют выбросы, явные дубликаты, и не совсем корректный формат данных для некоторых колонок.\n",
    "\n",
    "Учитывая конечную цель проекта, манипуляции с данными не целесообразны. Данные оставляем в исходном виде."
   ]
  },
  {
   "cell_type": "markdown",
   "metadata": {},
   "source": [
    "## Умножение матриц"
   ]
  },
  {
   "cell_type": "markdown",
   "metadata": {},
   "source": [
    "В этом задании вы можете записывать формулы в *Jupyter Notebook.*\n",
    "\n",
    "Чтобы записать формулу внутри текста, окружите её символами доллара \\\\$; если снаружи —  двойными символами \\\\$\\\\$. Эти формулы записываются на языке вёрстки *LaTeX.* \n",
    "\n",
    "Для примера мы записали формулы линейной регрессии. Можете их скопировать и отредактировать, чтобы решить задачу.\n",
    "\n",
    "Работать в *LaTeX* необязательно."
   ]
  },
  {
   "cell_type": "markdown",
   "metadata": {},
   "source": [
    "Обозначения:\n",
    "\n",
    "- $X$ — матрица признаков (нулевой столбец состоит из единиц)\n",
    "\n",
    "- $y$ — вектор целевого признака\n",
    "\n",
    "- $P$ — матрица, на которую умножаются признаки\n",
    "\n",
    "- $w$ — вектор весов линейной регрессии (нулевой элемент равен сдвигу)"
   ]
  },
  {
   "cell_type": "markdown",
   "metadata": {},
   "source": [
    "Предсказания:\n",
    "\n",
    "$$\n",
    "a = Xw\n",
    "$$\n",
    "\n",
    "Задача обучения:\n",
    "\n",
    "$$\n",
    "w = \\arg\\min_w MSE(Xw, y)\n",
    "$$\n",
    "\n",
    "Формула обучения:\n",
    "\n",
    "$$\n",
    "w = (X^T X)^{-1} X^T y\n",
    "$$"
   ]
  },
  {
   "cell_type": "markdown",
   "metadata": {},
   "source": [
    "**Ответ:** ...\n",
    "\n",
    "**Обоснование:** Не изменится.\n",
    "\n",
    "**Запишем новое представление матрицы признаков с учетом домнажения на обратимую матрицу:**\n",
    "\n",
    "**Тогда формулы c учетом новых введений будут иметь следующий вид:**\n",
    "\n",
    "**Предсказания:** $A=ZW$\n",
    "\n",
    "**Формула обучения:** $W=(Z^T Z)^{-1} Z^T y$\n",
    "\n",
    "**где W - вектор весов**\n",
    "\n",
    "**Подставим значение Z в формулу обучения и преобразуем ее:**$W=((Z^T Z)^{-1} Z^T) y$\n",
    "Неверный вариант - $W=((XP)^T(XP))^{-1}(XP)^Ty$ \n",
    "Исправленый вариант - $W=(P^TX)(XP^T)^{-1}P^TX^Ty$ \n",
    "\n",
    "\n",
    "\n",
    "\n",
    "$$W=(X^TPP^TP)^{-1}X^TPy$$\n",
    "$$W=(XX)^{-1}(P^T)^{-1}P^{-1}XP^Ty$$"
   ]
  },
  {
   "cell_type": "markdown",
   "metadata": {},
   "source": [
    "$$W=P^TX(P^T)^{-1}X^{-1}P^TX^Ty$$"
   ]
  },
  {
   "cell_type": "markdown",
   "metadata": {},
   "source": [
    "Модель линейной регрессии:\n",
    "\n",
    "$y=Xw$\n",
    "\n",
    "Теперь предположим, что мы умножаем признаки $X$ на обратимую матрицу $P$, чтобы получить новые признаки $X'$:\n",
    "\n",
    "$X'=XP$\n",
    "\n",
    "Тогда новые признаки $y'$для модели с обновленными признаками будут:\n",
    "\n",
    "$y'=X'w'$\n",
    "\n",
    "Так как $X'=XP$, мы можем выразить $w'$ через $w$:\n",
    "\n",
    "$w'=(XP)^{-1}X'w$\n",
    "\n",
    "Для этого сначала найдем $(XP)^{-1}$. Учитывая, что $(AB)^{-1}=B^{-1}A^{-1}$, получаем:\n",
    "\n",
    "$(XP)^{-1}=P^{-1}X^{-1}$\n",
    "\n",
    "Теперь подставим это обратно в выражение для $w'$:\n",
    "\n",
    "$w'=P^{-1}X^{-1}X'w$\n",
    "\n",
    "Так как $X'=XP$, то $X^{-1}X'=I$, где $I$- единичная матрица. Поэтому:\n",
    "\n",
    "$w'=P^{-1}Iw$\n",
    "\n",
    "$w'=P^{-1}w$\n",
    "\n",
    "Это означает, что каждый элемент $w'$ зависит от соответствующего элемента $w$, умноженного на обратное значение соответствующего элемента матрицы $P$. Таким образом, параметры линейной регрессии в преобразованной задаче связаны с параметрами в исходной задаче через обратную матрицу $P$.\n",
    "\n",
    "Итак, качество линейной регрессии не изменится при умножении признаков на обратимую матрицу, так как новые веса $w'$ связаны с исходными весами $w$ через обратимую матрицу $P$.\n",
    "\n",
    "\n",
    "\n",
    "\n"
   ]
  },
  {
   "cell_type": "markdown",
   "metadata": {},
   "source": [
    "Преобразуем выражение: \n",
    "        \n",
    "Выделим квадратные матрицы, поскольку только у квадратных могут быть обратные:        \n",
    "\n",
    "$$w'=(P^TX^TXP)^{-1}P^TX^Ty = (P^T(X^TX)P)^{-1}P^TX^Ty$$\n",
    "    \n",
    "Раскроем скобки, используя свойство $(AB)^{-1} = B^{-1} A^{-1}$\n",
    "    \n",
    "$w'=(P^T(X^TX)P)^{-1}P^TX^Ty = P^{-1}(X^TX)^{-1}(P^T)^{-1}P^TX^Ty $ \n",
    "    \n",
    "Поскольку по свойству $A A^{-1} = A^{-1} A = E$, где $E$ - единичная матрица, то $(P^T)^{-1}P^T=E$. При умножении на единичную матрицу выражение не изменяется $AE = EA = A$, значит\n",
    "    \n",
    "$w'=P^{-1}(X^TX)^{-1}(P^T)^{-1}P^TX^Ty = P^{-1}(X^TX)^{-1}EX^Ty = P^{-1}(X^TX)^{-1}X^Ty$     \n",
    "А так как $(X^TX)^{-1}X^Ty = w$, то \n",
    "    \n",
    "$w'=P^{-1}(X^TX)^{-1}X^Ty = P^{-1}w$ \n",
    "    \n",
    "Получили связь исходных весов и преобразованных $w'= P^{-1}w$. Подставим это выражение в формулу для предсказаний\n",
    "    \n",
    "$a'=XPw' = XPP^{-1}w$\n",
    "    \n",
    "Заменяем $PP^{-1}$ на единичную матрицу, при умножении на которую выражение не меняется\n",
    "    \n",
    "$a'= XPP^{-1}w = XEw = Xw = a$\n",
    "    \n",
    "Получили равенство предсказаний $a'= a$. Поскольку качество регрессии (метрика) зависит только от истинного таргета и предсказаний, а ни то, ни другое не меняется, значит и качество не изменится\n",
    "        \n",
    "        \n"
   ]
  },
  {
   "cell_type": "markdown",
   "metadata": {},
   "source": [
    "## Алгоритм преобразования"
   ]
  },
  {
   "cell_type": "markdown",
   "metadata": {},
   "source": [
    "**Алгоритм**\n",
    "\n",
    "В соответствие с проведенными выше вычислениями умножим матрицу признаков на обратимую матрицу той же размерности,в которой все величины сгенерированы случайно."
   ]
  },
  {
   "cell_type": "markdown",
   "metadata": {},
   "source": [
    "**Обоснование**\n",
    "\n"
   ]
  },
  {
   "cell_type": "code",
   "execution_count": 12,
   "metadata": {},
   "outputs": [],
   "source": [
    "features = data.drop(['Страховые выплаты'], axis=1)\n",
    "target = data['Страховые выплаты']"
   ]
  },
  {
   "cell_type": "code",
   "execution_count": 13,
   "metadata": {},
   "outputs": [],
   "source": [
    "random_matrix = np.random.randn(4, 4)"
   ]
  },
  {
   "cell_type": "code",
   "execution_count": 14,
   "metadata": {},
   "outputs": [
    {
     "name": "stdout",
     "output_type": "stream",
     "text": [
      "\n",
      "Обратная матрица к заданной существует\n"
     ]
    }
   ],
   "source": [
    "try:\n",
    "    inv_matrix = np.linalg.inv(random_matrix)\n",
    "    print('\\nОбратная матрица к заданной существует')\n",
    "except:\n",
    "    print('\\nОбратная матрица к заданной не существует')"
   ]
  },
  {
   "cell_type": "markdown",
   "metadata": {},
   "source": [
    "Рассчитаем результаты для исходных параметров.\n",
    "$$\n",
    "a = Xw\n",
    "$$\n",
    "\n",
    "$$\n",
    "w = (X^T X)^{-1} X^T y\n",
    "$$"
   ]
  },
  {
   "cell_type": "code",
   "execution_count": 15,
   "metadata": {},
   "outputs": [],
   "source": [
    "#Исправление\n",
    "features_with_ones = np.concatenate([np.ones((features.shape[0], 1)), features], axis=1)"
   ]
  },
  {
   "cell_type": "code",
   "execution_count": 16,
   "metadata": {},
   "outputs": [],
   "source": [
    "w = np.linalg.inv(features_with_ones.T.dot(features_with_ones)).dot(features_with_ones.T).dot(target)\n",
    "a = features_with_ones @ w"
   ]
  },
  {
   "cell_type": "markdown",
   "metadata": {},
   "source": [
    "Рассчитаем результаты для новых параметров."
   ]
  },
  {
   "cell_type": "code",
   "execution_count": 17,
   "metadata": {},
   "outputs": [],
   "source": [
    "features_upgraded = features @ random_matrix"
   ]
  },
  {
   "cell_type": "code",
   "execution_count": 18,
   "metadata": {},
   "outputs": [],
   "source": [
    "features_upgraded_with_ones = np.concatenate([np.ones((features_upgraded.shape[0], 1)), features_upgraded], axis=1)"
   ]
  },
  {
   "cell_type": "code",
   "execution_count": 19,
   "metadata": {},
   "outputs": [],
   "source": [
    "w2 = np.linalg.inv(features_upgraded_with_ones.T.dot(features_upgraded_with_ones)).dot(features_upgraded_with_ones.T).dot(target)\n",
    "a2 = features_upgraded_with_ones  @ w2"
   ]
  },
  {
   "cell_type": "markdown",
   "metadata": {},
   "source": [
    "Посмотрим, есть ли разница между результатами."
   ]
  },
  {
   "cell_type": "code",
   "execution_count": 20,
   "metadata": {},
   "outputs": [],
   "source": [
    "difference = a - a2"
   ]
  },
  {
   "cell_type": "code",
   "execution_count": 21,
   "metadata": {},
   "outputs": [
    {
     "data": {
      "text/plain": [
       "-0.00018643164127093753"
      ]
     },
     "execution_count": 21,
     "metadata": {},
     "output_type": "execute_result"
    }
   ],
   "source": [
    "difference.sum()"
   ]
  },
  {
   "cell_type": "markdown",
   "metadata": {},
   "source": [
    "Разница между исходными предсказаниями и предсказаниями с использованием обратимой матрицы не значительно минимально."
   ]
  },
  {
   "cell_type": "markdown",
   "metadata": {},
   "source": [
    "# Вывод"
   ]
  },
  {
   "cell_type": "markdown",
   "metadata": {},
   "source": [
    "Используемый алгоритм не создает различий в предсказаниях при использовании исходных параметров и модернизированных. Значит, качество предсказаний модели не ухудшится."
   ]
  },
  {
   "cell_type": "markdown",
   "metadata": {},
   "source": [
    "## Проверка алгоритма"
   ]
  },
  {
   "cell_type": "markdown",
   "metadata": {},
   "source": [
    "Создадим класс модели Линейной Регрессии."
   ]
  },
  {
   "cell_type": "code",
   "execution_count": 22,
   "metadata": {},
   "outputs": [],
   "source": [
    "class ConstantRegression:\n",
    "    def model_fit(self, features, target):\n",
    "        self.model = LinearRegression()\n",
    "        self.model.fit(features, target)\n",
    "        \n",
    "    def predict_result(self, features):\n",
    "        result = self.model.predict(features)\n",
    "        return result\n",
    "        \n",
    "    def get_r2_score(self, target, predict):\n",
    "        r2 = r2_score(target, predict)\n",
    "        return r2  "
   ]
  },
  {
   "cell_type": "markdown",
   "metadata": {},
   "source": [
    "Вычислим результат метрики для исходных признаков."
   ]
  },
  {
   "cell_type": "code",
   "execution_count": 23,
   "metadata": {},
   "outputs": [],
   "source": [
    "model1 = ConstantRegression()\n",
    "model1.model_fit(features, target)\n",
    "predict_for_true_features = model1.predict_result(features)\n",
    "r2_for_true_features = model1.get_r2_score(target, predict_for_true_features)"
   ]
  },
  {
   "cell_type": "markdown",
   "metadata": {},
   "source": [
    "Вычислим результат метрики для признаков, умноженных на обратимую матрицу."
   ]
  },
  {
   "cell_type": "code",
   "execution_count": 24,
   "metadata": {},
   "outputs": [],
   "source": [
    "model2 = ConstantRegression()\n",
    "model2.model_fit(features_upgraded, target)\n",
    "predict_for_upgraded_features = model2.predict_result(features_upgraded)\n",
    "r2_for_upgraded_features = model2.get_r2_score(target, predict_for_upgraded_features)\n"
   ]
  },
  {
   "cell_type": "markdown",
   "metadata": {},
   "source": [
    "Оценим результаты."
   ]
  },
  {
   "cell_type": "code",
   "execution_count": 25,
   "metadata": {},
   "outputs": [
    {
     "name": "stdout",
     "output_type": "stream",
     "text": [
      "\n",
      "Значение R2 при использовании исходных признаков - 0.42494550308169177\n",
      "\n",
      "Значение R2 при использовании признаков, умноженых на обратимую матрицу - 0.4249455030816848\n"
     ]
    }
   ],
   "source": [
    "print('\\nЗначение R2 при использовании исходных признаков -', r2_for_true_features)\n",
    "print('\\nЗначение R2 при использовании признаков, умноженых на обратимую матрицу -', r2_for_upgraded_features)"
   ]
  },
  {
   "cell_type": "markdown",
   "metadata": {},
   "source": [
    "Разница не значительно минимальна, при умножении признаков на обратимую матрицу качество модели не изменилось."
   ]
  },
  {
   "cell_type": "markdown",
   "metadata": {},
   "source": [
    "# Вывод"
   ]
  },
  {
   "cell_type": "markdown",
   "metadata": {},
   "source": [
    "При умножение матрицы признаков на обратимую матрицу качество Линейной Регрессии не изменяется."
   ]
  }
 ],
 "metadata": {
  "ExecuteTimeLog": [
   {
    "duration": 1570,
    "start_time": "2024-02-13T13:04:28.799Z"
   },
   {
    "duration": 80,
    "start_time": "2024-02-13T13:04:30.371Z"
   },
   {
    "duration": 10,
    "start_time": "2024-02-13T13:04:30.453Z"
   },
   {
    "duration": 12,
    "start_time": "2024-02-13T13:05:12.122Z"
   },
   {
    "duration": 8,
    "start_time": "2024-02-13T13:06:14.982Z"
   },
   {
    "duration": 4,
    "start_time": "2024-02-13T13:06:15.283Z"
   },
   {
    "duration": 3,
    "start_time": "2024-02-13T13:06:15.739Z"
   },
   {
    "duration": 5,
    "start_time": "2024-02-13T13:06:16.116Z"
   },
   {
    "duration": 6,
    "start_time": "2024-02-13T13:06:24.583Z"
   },
   {
    "duration": 79,
    "start_time": "2024-02-13T13:06:37.669Z"
   },
   {
    "duration": 3,
    "start_time": "2024-02-13T13:06:41.368Z"
   },
   {
    "duration": 2408,
    "start_time": "2024-02-13T13:07:46.322Z"
   },
   {
    "duration": 103,
    "start_time": "2024-02-13T15:39:59.104Z"
   },
   {
    "duration": 5,
    "start_time": "2024-02-13T17:54:49.467Z"
   },
   {
    "duration": 2,
    "start_time": "2024-02-13T17:54:59.343Z"
   },
   {
    "duration": 4,
    "start_time": "2024-02-13T17:55:57.543Z"
   },
   {
    "duration": 7,
    "start_time": "2024-02-13T17:59:27.643Z"
   },
   {
    "duration": 7,
    "start_time": "2024-02-13T17:59:30.906Z"
   },
   {
    "duration": 3,
    "start_time": "2024-02-13T17:59:59.607Z"
   },
   {
    "duration": 5,
    "start_time": "2024-02-13T18:00:10.451Z"
   },
   {
    "duration": 2,
    "start_time": "2024-02-13T18:00:50.508Z"
   },
   {
    "duration": 4,
    "start_time": "2024-02-13T18:00:57.670Z"
   },
   {
    "duration": 85,
    "start_time": "2024-02-13T18:05:30.207Z"
   },
   {
    "duration": 3,
    "start_time": "2024-02-13T18:05:48.176Z"
   },
   {
    "duration": 9,
    "start_time": "2024-02-13T18:07:39.390Z"
   },
   {
    "duration": 8,
    "start_time": "2024-02-13T18:08:05.385Z"
   },
   {
    "duration": 3,
    "start_time": "2024-02-13T18:08:35.295Z"
   },
   {
    "duration": 77,
    "start_time": "2024-02-13T18:09:08.730Z"
   },
   {
    "duration": 2286,
    "start_time": "2024-02-14T18:24:58.559Z"
   },
   {
    "duration": 90,
    "start_time": "2024-02-14T18:25:00.847Z"
   },
   {
    "duration": 13,
    "start_time": "2024-02-14T18:25:00.938Z"
   },
   {
    "duration": 68,
    "start_time": "2024-02-14T18:25:00.953Z"
   },
   {
    "duration": 39,
    "start_time": "2024-02-14T18:25:01.023Z"
   },
   {
    "duration": 40,
    "start_time": "2024-02-14T18:25:01.063Z"
   },
   {
    "duration": 32,
    "start_time": "2024-02-14T18:25:01.104Z"
   },
   {
    "duration": 52,
    "start_time": "2024-02-14T18:25:01.138Z"
   },
   {
    "duration": 82,
    "start_time": "2024-02-14T18:25:01.193Z"
   },
   {
    "duration": 37,
    "start_time": "2024-02-14T18:25:01.277Z"
   },
   {
    "duration": 2507,
    "start_time": "2024-02-14T18:25:01.316Z"
   },
   {
    "duration": 5,
    "start_time": "2024-02-14T18:25:03.825Z"
   },
   {
    "duration": 128,
    "start_time": "2024-02-14T18:25:03.832Z"
   },
   {
    "duration": 262,
    "start_time": "2024-02-14T18:25:03.963Z"
   },
   {
    "duration": 168,
    "start_time": "2024-02-14T18:25:04.227Z"
   },
   {
    "duration": 95,
    "start_time": "2024-02-14T18:25:04.397Z"
   },
   {
    "duration": 99,
    "start_time": "2024-02-14T18:25:04.494Z"
   },
   {
    "duration": 91,
    "start_time": "2024-02-14T18:25:04.601Z"
   },
   {
    "duration": 53,
    "start_time": "2024-02-14T18:25:04.694Z"
   },
   {
    "duration": 14,
    "start_time": "2024-02-14T18:25:04.749Z"
   },
   {
    "duration": 27,
    "start_time": "2024-02-14T18:25:04.765Z"
   },
   {
    "duration": 204,
    "start_time": "2024-02-14T18:25:04.794Z"
   },
   {
    "duration": 95,
    "start_time": "2024-02-14T18:25:05.000Z"
   },
   {
    "duration": 55,
    "start_time": "2024-02-15T12:03:02.632Z"
   },
   {
    "duration": 1826,
    "start_time": "2024-02-15T12:04:27.469Z"
   },
   {
    "duration": 87,
    "start_time": "2024-02-15T12:04:29.298Z"
   },
   {
    "duration": 13,
    "start_time": "2024-02-15T12:04:29.387Z"
   },
   {
    "duration": 18,
    "start_time": "2024-02-15T12:04:29.402Z"
   },
   {
    "duration": 21,
    "start_time": "2024-02-15T12:04:29.422Z"
   },
   {
    "duration": 35,
    "start_time": "2024-02-15T12:04:29.444Z"
   },
   {
    "duration": 16,
    "start_time": "2024-02-15T12:04:29.480Z"
   },
   {
    "duration": 18,
    "start_time": "2024-02-15T12:04:29.498Z"
   },
   {
    "duration": 28,
    "start_time": "2024-02-15T12:04:29.519Z"
   },
   {
    "duration": 4,
    "start_time": "2024-02-15T12:04:29.550Z"
   },
   {
    "duration": 2731,
    "start_time": "2024-02-15T12:04:29.557Z"
   },
   {
    "duration": 6,
    "start_time": "2024-02-15T12:04:32.289Z"
   },
   {
    "duration": 27,
    "start_time": "2024-02-15T12:04:32.296Z"
   },
   {
    "duration": 32,
    "start_time": "2024-02-15T12:04:32.326Z"
   },
   {
    "duration": 14,
    "start_time": "2024-02-15T12:04:32.360Z"
   },
   {
    "duration": 99,
    "start_time": "2024-02-15T12:04:32.393Z"
   },
   {
    "duration": 230,
    "start_time": "2024-02-15T12:04:32.496Z"
   },
   {
    "duration": 0,
    "start_time": "2024-02-15T12:04:32.728Z"
   },
   {
    "duration": 0,
    "start_time": "2024-02-15T12:04:32.729Z"
   },
   {
    "duration": 0,
    "start_time": "2024-02-15T12:04:32.730Z"
   },
   {
    "duration": 0,
    "start_time": "2024-02-15T12:04:32.732Z"
   },
   {
    "duration": 0,
    "start_time": "2024-02-15T12:04:32.733Z"
   },
   {
    "duration": 0,
    "start_time": "2024-02-15T12:04:32.734Z"
   },
   {
    "duration": 0,
    "start_time": "2024-02-15T12:04:32.735Z"
   },
   {
    "duration": 6,
    "start_time": "2024-02-15T12:20:49.511Z"
   },
   {
    "duration": 4,
    "start_time": "2024-02-15T12:20:50.612Z"
   },
   {
    "duration": 7,
    "start_time": "2024-02-15T12:20:51.184Z"
   },
   {
    "duration": 3,
    "start_time": "2024-02-15T12:20:52.329Z"
   },
   {
    "duration": 5,
    "start_time": "2024-02-15T12:20:55.192Z"
   },
   {
    "duration": 4,
    "start_time": "2024-02-15T12:48:27.725Z"
   },
   {
    "duration": 5,
    "start_time": "2024-02-15T12:48:28.281Z"
   },
   {
    "duration": 3,
    "start_time": "2024-02-15T12:48:29.768Z"
   },
   {
    "duration": 4,
    "start_time": "2024-02-15T12:48:30.495Z"
   },
   {
    "duration": 76,
    "start_time": "2024-02-15T12:48:31.116Z"
   },
   {
    "duration": 16,
    "start_time": "2024-02-15T12:51:48.434Z"
   },
   {
    "duration": 6,
    "start_time": "2024-02-15T13:30:15.409Z"
   },
   {
    "duration": 3,
    "start_time": "2024-02-15T13:30:21.399Z"
   },
   {
    "duration": 5,
    "start_time": "2024-02-15T13:30:22.390Z"
   },
   {
    "duration": 2475,
    "start_time": "2024-02-15T14:10:55.536Z"
   },
   {
    "duration": 85,
    "start_time": "2024-02-15T14:10:58.013Z"
   },
   {
    "duration": 13,
    "start_time": "2024-02-15T14:10:58.100Z"
   },
   {
    "duration": 19,
    "start_time": "2024-02-15T14:10:58.115Z"
   },
   {
    "duration": 9,
    "start_time": "2024-02-15T14:10:58.136Z"
   },
   {
    "duration": 7,
    "start_time": "2024-02-15T14:10:58.146Z"
   },
   {
    "duration": 6,
    "start_time": "2024-02-15T14:10:58.155Z"
   },
   {
    "duration": 6,
    "start_time": "2024-02-15T14:10:58.162Z"
   },
   {
    "duration": 14,
    "start_time": "2024-02-15T14:10:58.170Z"
   },
   {
    "duration": 5,
    "start_time": "2024-02-15T14:10:58.185Z"
   },
   {
    "duration": 2530,
    "start_time": "2024-02-15T14:10:58.191Z"
   },
   {
    "duration": 5,
    "start_time": "2024-02-15T14:11:00.723Z"
   },
   {
    "duration": 77,
    "start_time": "2024-02-15T14:11:00.729Z"
   },
   {
    "duration": 92,
    "start_time": "2024-02-15T14:11:00.809Z"
   },
   {
    "duration": 77,
    "start_time": "2024-02-15T14:11:00.904Z"
   },
   {
    "duration": 98,
    "start_time": "2024-02-15T14:11:00.983Z"
   },
   {
    "duration": 98,
    "start_time": "2024-02-15T14:11:01.084Z"
   },
   {
    "duration": 43,
    "start_time": "2024-02-15T14:11:01.183Z"
   },
   {
    "duration": 28,
    "start_time": "2024-02-15T14:11:01.228Z"
   },
   {
    "duration": 129,
    "start_time": "2024-02-15T14:11:01.258Z"
   },
   {
    "duration": 29,
    "start_time": "2024-02-15T14:11:01.389Z"
   },
   {
    "duration": 32,
    "start_time": "2024-02-15T14:11:01.420Z"
   },
   {
    "duration": 66,
    "start_time": "2024-02-15T14:11:01.454Z"
   },
   {
    "duration": 68,
    "start_time": "2024-02-15T14:11:01.522Z"
   },
   {
    "duration": 91,
    "start_time": "2024-02-15T14:11:01.592Z"
   },
   {
    "duration": 5,
    "start_time": "2024-02-15T14:33:29.821Z"
   },
   {
    "duration": 4,
    "start_time": "2024-02-15T14:38:08.870Z"
   },
   {
    "duration": 4,
    "start_time": "2024-02-15T14:39:49.185Z"
   },
   {
    "duration": 2379,
    "start_time": "2024-02-16T17:29:17.442Z"
   },
   {
    "duration": 79,
    "start_time": "2024-02-16T17:29:19.823Z"
   },
   {
    "duration": 12,
    "start_time": "2024-02-16T17:29:19.904Z"
   },
   {
    "duration": 28,
    "start_time": "2024-02-16T17:29:19.918Z"
   },
   {
    "duration": 21,
    "start_time": "2024-02-16T17:29:19.949Z"
   },
   {
    "duration": 13,
    "start_time": "2024-02-16T17:29:19.973Z"
   },
   {
    "duration": 27,
    "start_time": "2024-02-16T17:29:19.989Z"
   },
   {
    "duration": 28,
    "start_time": "2024-02-16T17:29:20.018Z"
   },
   {
    "duration": 26,
    "start_time": "2024-02-16T17:29:20.048Z"
   },
   {
    "duration": 22,
    "start_time": "2024-02-16T17:29:20.076Z"
   },
   {
    "duration": 2680,
    "start_time": "2024-02-16T17:29:20.100Z"
   },
   {
    "duration": 5,
    "start_time": "2024-02-16T17:29:22.782Z"
   },
   {
    "duration": 29,
    "start_time": "2024-02-16T17:29:22.790Z"
   },
   {
    "duration": 12,
    "start_time": "2024-02-16T17:29:22.823Z"
   },
   {
    "duration": 6,
    "start_time": "2024-02-16T17:29:22.837Z"
   },
   {
    "duration": 11,
    "start_time": "2024-02-16T17:29:22.859Z"
   },
   {
    "duration": 89,
    "start_time": "2024-02-16T17:29:22.872Z"
   },
   {
    "duration": 96,
    "start_time": "2024-02-16T17:29:22.963Z"
   },
   {
    "duration": 17,
    "start_time": "2024-02-16T17:29:23.061Z"
   },
   {
    "duration": 9,
    "start_time": "2024-02-16T17:29:23.163Z"
   },
   {
    "duration": 19,
    "start_time": "2024-02-16T17:29:23.259Z"
   },
   {
    "duration": 13,
    "start_time": "2024-02-16T17:29:23.280Z"
   },
   {
    "duration": 63,
    "start_time": "2024-02-16T17:29:23.294Z"
   },
   {
    "duration": 99,
    "start_time": "2024-02-16T17:29:23.360Z"
   },
   {
    "duration": 95,
    "start_time": "2024-02-16T17:29:23.465Z"
   },
   {
    "duration": 2446,
    "start_time": "2024-02-17T13:31:06.496Z"
   },
   {
    "duration": 86,
    "start_time": "2024-02-17T13:31:08.944Z"
   },
   {
    "duration": 11,
    "start_time": "2024-02-17T13:31:09.032Z"
   },
   {
    "duration": 15,
    "start_time": "2024-02-17T13:31:09.045Z"
   },
   {
    "duration": 23,
    "start_time": "2024-02-17T13:31:09.061Z"
   },
   {
    "duration": 14,
    "start_time": "2024-02-17T13:31:09.086Z"
   },
   {
    "duration": 16,
    "start_time": "2024-02-17T13:31:09.101Z"
   },
   {
    "duration": 23,
    "start_time": "2024-02-17T13:31:09.118Z"
   },
   {
    "duration": 17,
    "start_time": "2024-02-17T13:31:09.143Z"
   },
   {
    "duration": 21,
    "start_time": "2024-02-17T13:31:09.163Z"
   },
   {
    "duration": 2405,
    "start_time": "2024-02-17T13:31:09.185Z"
   },
   {
    "duration": 5,
    "start_time": "2024-02-17T13:31:11.592Z"
   },
   {
    "duration": 21,
    "start_time": "2024-02-17T13:31:11.599Z"
   },
   {
    "duration": 24,
    "start_time": "2024-02-17T13:31:11.622Z"
   },
   {
    "duration": 47,
    "start_time": "2024-02-17T13:31:11.649Z"
   },
   {
    "duration": 100,
    "start_time": "2024-02-17T13:31:11.699Z"
   },
   {
    "duration": 6,
    "start_time": "2024-02-17T13:31:11.802Z"
   },
   {
    "duration": 98,
    "start_time": "2024-02-17T13:31:11.895Z"
   },
   {
    "duration": 41,
    "start_time": "2024-02-17T13:31:11.995Z"
   },
   {
    "duration": 67,
    "start_time": "2024-02-17T13:31:12.038Z"
   },
   {
    "duration": 111,
    "start_time": "2024-02-17T13:31:12.107Z"
   },
   {
    "duration": 10,
    "start_time": "2024-02-17T13:31:12.220Z"
   },
   {
    "duration": 18,
    "start_time": "2024-02-17T13:31:12.231Z"
   },
   {
    "duration": 55,
    "start_time": "2024-02-17T13:31:12.250Z"
   },
   {
    "duration": 99,
    "start_time": "2024-02-17T13:31:12.307Z"
   },
   {
    "duration": 2582,
    "start_time": "2024-02-17T18:26:32.267Z"
   },
   {
    "duration": 99,
    "start_time": "2024-02-17T18:26:34.851Z"
   },
   {
    "duration": 19,
    "start_time": "2024-02-17T18:26:34.952Z"
   },
   {
    "duration": 28,
    "start_time": "2024-02-17T18:26:34.973Z"
   },
   {
    "duration": 18,
    "start_time": "2024-02-17T18:26:35.004Z"
   },
   {
    "duration": 9,
    "start_time": "2024-02-17T18:26:35.024Z"
   },
   {
    "duration": 8,
    "start_time": "2024-02-17T18:26:35.035Z"
   },
   {
    "duration": 23,
    "start_time": "2024-02-17T18:26:35.045Z"
   },
   {
    "duration": 20,
    "start_time": "2024-02-17T18:26:35.069Z"
   },
   {
    "duration": 4,
    "start_time": "2024-02-17T18:26:35.091Z"
   },
   {
    "duration": 2564,
    "start_time": "2024-02-17T18:26:35.096Z"
   },
   {
    "duration": 4,
    "start_time": "2024-02-17T18:26:37.662Z"
   },
   {
    "duration": 26,
    "start_time": "2024-02-17T18:26:37.668Z"
   },
   {
    "duration": 25,
    "start_time": "2024-02-17T18:26:37.697Z"
   },
   {
    "duration": 14,
    "start_time": "2024-02-17T18:26:37.724Z"
   },
   {
    "duration": 5,
    "start_time": "2024-02-17T18:26:37.791Z"
   },
   {
    "duration": 93,
    "start_time": "2024-02-17T18:26:37.800Z"
   },
   {
    "duration": 97,
    "start_time": "2024-02-17T18:26:37.896Z"
   },
   {
    "duration": 10,
    "start_time": "2024-02-17T18:26:37.995Z"
   },
   {
    "duration": 86,
    "start_time": "2024-02-17T18:26:38.007Z"
   },
   {
    "duration": 9,
    "start_time": "2024-02-17T18:26:38.095Z"
   },
   {
    "duration": 88,
    "start_time": "2024-02-17T18:26:38.106Z"
   },
   {
    "duration": 23,
    "start_time": "2024-02-17T18:26:38.196Z"
   },
   {
    "duration": 82,
    "start_time": "2024-02-17T18:26:38.221Z"
   },
   {
    "duration": 5,
    "start_time": "2024-02-17T18:26:38.394Z"
   }
  ],
  "kernelspec": {
   "display_name": "Python 3 (ipykernel)",
   "language": "python",
   "name": "python3"
  },
  "language_info": {
   "codemirror_mode": {
    "name": "ipython",
    "version": 3
   },
   "file_extension": ".py",
   "mimetype": "text/x-python",
   "name": "python",
   "nbconvert_exporter": "python",
   "pygments_lexer": "ipython3",
   "version": "3.9.15"
  },
  "toc": {
   "base_numbering": 1,
   "nav_menu": {},
   "number_sections": true,
   "sideBar": true,
   "skip_h1_title": true,
   "title_cell": "Содержание",
   "title_sidebar": "Contents",
   "toc_cell": true,
   "toc_position": {
    "height": "calc(100% - 180px)",
    "left": "10px",
    "top": "150px",
    "width": "254.176px"
   },
   "toc_section_display": true,
   "toc_window_display": true
  }
 },
 "nbformat": 4,
 "nbformat_minor": 2
}
